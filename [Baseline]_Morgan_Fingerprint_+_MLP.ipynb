{
  "cells": [
    {
      "cell_type": "markdown",
      "metadata": {
        "id": "view-in-github",
        "colab_type": "text"
      },
      "source": [
        "<a href=\"https://colab.research.google.com/github/jimin0/2023_JUMP_AI/blob/main/%5BBaseline%5D_Morgan_Fingerprint_%2B_MLP.ipynb\" target=\"_parent\"><img src=\"https://colab.research.google.com/assets/colab-badge.svg\" alt=\"Open In Colab\"/></a>"
      ]
    },
    {
      "cell_type": "code",
      "source": [
        "!pip install deepchem\n",
        "!pip3 install torch\n",
        "!pip3 install torchvision"
      ],
      "metadata": {
        "colab": {
          "base_uri": "https://localhost:8080/"
        },
        "id": "wuwSOwdcHmDv",
        "outputId": "87632eba-127d-479c-a505-3c9e59713774"
      },
      "id": "wuwSOwdcHmDv",
      "execution_count": null,
      "outputs": [
        {
          "output_type": "stream",
          "name": "stdout",
          "text": [
            "Requirement already satisfied: deepchem in /usr/local/lib/python3.7/site-packages (2.7.1)\n",
            "Requirement already satisfied: pandas in /usr/local/lib/python3.7/site-packages (from deepchem) (1.3.5)\n",
            "Requirement already satisfied: rdkit in /usr/local/lib/python3.7/site-packages (from deepchem) (2023.3.2)\n",
            "Requirement already satisfied: scipy<1.9 in /usr/local/lib/python3.7/site-packages (from deepchem) (1.7.3)\n",
            "Requirement already satisfied: scikit-learn in /usr/local/lib/python3.7/site-packages (from deepchem) (1.0.2)\n",
            "Requirement already satisfied: joblib in /usr/local/lib/python3.7/site-packages (from deepchem) (1.3.2)\n",
            "Requirement already satisfied: numpy>=1.21 in /usr/local/lib/python3.7/site-packages (from deepchem) (1.21.6)\n",
            "Requirement already satisfied: pytz>=2017.3 in /usr/local/lib/python3.7/site-packages (from pandas->deepchem) (2023.3.post1)\n",
            "Requirement already satisfied: python-dateutil>=2.7.3 in /usr/local/lib/python3.7/site-packages (from pandas->deepchem) (2.8.2)\n",
            "Requirement already satisfied: Pillow in /usr/local/lib/python3.7/site-packages (from rdkit->deepchem) (9.5.0)\n",
            "Requirement already satisfied: threadpoolctl>=2.0.0 in /usr/local/lib/python3.7/site-packages (from scikit-learn->deepchem) (3.1.0)\n",
            "Requirement already satisfied: six>=1.5 in /usr/local/lib/python3.7/site-packages (from python-dateutil>=2.7.3->pandas->deepchem) (1.14.0)\n",
            "Requirement already satisfied: torch in /usr/local/lib/python3.10/dist-packages (2.0.1+cu118)\n",
            "Requirement already satisfied: filelock in /usr/local/lib/python3.10/dist-packages (from torch) (3.12.2)\n",
            "Requirement already satisfied: typing-extensions in /usr/local/lib/python3.10/dist-packages (from torch) (4.7.1)\n",
            "Requirement already satisfied: sympy in /usr/local/lib/python3.10/dist-packages (from torch) (1.12)\n",
            "Requirement already satisfied: networkx in /usr/local/lib/python3.10/dist-packages (from torch) (3.1)\n",
            "Requirement already satisfied: jinja2 in /usr/local/lib/python3.10/dist-packages (from torch) (3.1.2)\n",
            "Requirement already satisfied: triton==2.0.0 in /usr/local/lib/python3.10/dist-packages (from torch) (2.0.0)\n",
            "Requirement already satisfied: cmake in /usr/local/lib/python3.10/dist-packages (from triton==2.0.0->torch) (3.27.2)\n",
            "Requirement already satisfied: lit in /usr/local/lib/python3.10/dist-packages (from triton==2.0.0->torch) (16.0.6)\n",
            "Requirement already satisfied: MarkupSafe>=2.0 in /usr/local/lib/python3.10/dist-packages (from jinja2->torch) (2.1.3)\n",
            "Requirement already satisfied: mpmath>=0.19 in /usr/local/lib/python3.10/dist-packages (from sympy->torch) (1.3.0)\n",
            "Requirement already satisfied: torchvision in /usr/local/lib/python3.10/dist-packages (0.15.2+cu118)\n",
            "Requirement already satisfied: numpy in /usr/local/lib/python3.10/dist-packages (from torchvision) (1.23.5)\n",
            "Requirement already satisfied: requests in /usr/local/lib/python3.10/dist-packages (from torchvision) (2.31.0)\n",
            "Requirement already satisfied: torch==2.0.1 in /usr/local/lib/python3.10/dist-packages (from torchvision) (2.0.1+cu118)\n",
            "Requirement already satisfied: pillow!=8.3.*,>=5.3.0 in /usr/local/lib/python3.10/dist-packages (from torchvision) (9.4.0)\n",
            "Requirement already satisfied: filelock in /usr/local/lib/python3.10/dist-packages (from torch==2.0.1->torchvision) (3.12.2)\n",
            "Requirement already satisfied: typing-extensions in /usr/local/lib/python3.10/dist-packages (from torch==2.0.1->torchvision) (4.7.1)\n",
            "Requirement already satisfied: sympy in /usr/local/lib/python3.10/dist-packages (from torch==2.0.1->torchvision) (1.12)\n",
            "Requirement already satisfied: networkx in /usr/local/lib/python3.10/dist-packages (from torch==2.0.1->torchvision) (3.1)\n",
            "Requirement already satisfied: jinja2 in /usr/local/lib/python3.10/dist-packages (from torch==2.0.1->torchvision) (3.1.2)\n",
            "Requirement already satisfied: triton==2.0.0 in /usr/local/lib/python3.10/dist-packages (from torch==2.0.1->torchvision) (2.0.0)\n",
            "Requirement already satisfied: cmake in /usr/local/lib/python3.10/dist-packages (from triton==2.0.0->torch==2.0.1->torchvision) (3.27.2)\n",
            "Requirement already satisfied: lit in /usr/local/lib/python3.10/dist-packages (from triton==2.0.0->torch==2.0.1->torchvision) (16.0.6)\n",
            "Requirement already satisfied: charset-normalizer<4,>=2 in /usr/local/lib/python3.10/dist-packages (from requests->torchvision) (3.2.0)\n",
            "Requirement already satisfied: idna<4,>=2.5 in /usr/local/lib/python3.10/dist-packages (from requests->torchvision) (3.4)\n",
            "Requirement already satisfied: urllib3<3,>=1.21.1 in /usr/local/lib/python3.10/dist-packages (from requests->torchvision) (2.0.4)\n",
            "Requirement already satisfied: certifi>=2017.4.17 in /usr/local/lib/python3.10/dist-packages (from requests->torchvision) (2023.7.22)\n",
            "Requirement already satisfied: MarkupSafe>=2.0 in /usr/local/lib/python3.10/dist-packages (from jinja2->torch==2.0.1->torchvision) (2.1.3)\n",
            "Requirement already satisfied: mpmath>=0.19 in /usr/local/lib/python3.10/dist-packages (from sympy->torch==2.0.1->torchvision) (1.3.0)\n"
          ]
        }
      ]
    },
    {
      "cell_type": "markdown",
      "id": "pYzhJrEibIlq",
      "metadata": {
        "id": "pYzhJrEibIlq"
      },
      "source": [
        "## Import"
      ]
    },
    {
      "cell_type": "code",
      "execution_count": null,
      "id": "7f487ab4",
      "metadata": {
        "id": "7f487ab4"
      },
      "outputs": [],
      "source": [
        "import random\n",
        "import os\n",
        "\n",
        "import numpy as np\n",
        "import pandas as pd\n",
        "\n",
        "from sklearn.feature_selection import VarianceThreshold\n",
        "from sklearn.model_selection import train_test_split\n",
        "\n",
        "import torch\n",
        "import torch.nn as nn\n",
        "from torch.utils.data import Dataset, DataLoader\n",
        "\n",
        "from rdkit import DataStructs\n",
        "from rdkit.Chem import PandasTools, AllChem"
      ]
    },
    {
      "cell_type": "code",
      "execution_count": null,
      "id": "714740f2",
      "metadata": {
        "id": "714740f2"
      },
      "outputs": [],
      "source": [
        "def seed_everything(seed):\n",
        "    random.seed(seed)\n",
        "    np.random.seed(seed)\n",
        "    os.environ[\"PYTHONHASHSEED\"] = str(seed)\n",
        "    torch.manual_seed(seed)\n",
        "\n",
        "seed_everything(42) # Seed 고정"
      ]
    },
    {
      "cell_type": "markdown",
      "id": "8afd5126",
      "metadata": {
        "id": "8afd5126"
      },
      "source": [
        "## Pre-Processing"
      ]
    },
    {
      "cell_type": "code",
      "execution_count": null,
      "id": "dd052629",
      "metadata": {
        "id": "dd052629"
      },
      "outputs": [],
      "source": [
        "train = pd.read_csv('train.csv')\n",
        "test = pd.read_csv('test.csv')"
      ]
    },
    {
      "cell_type": "code",
      "execution_count": null,
      "id": "7KbqRv6I19Rg",
      "metadata": {
        "id": "7KbqRv6I19Rg"
      },
      "outputs": [],
      "source": [
        "PandasTools.AddMoleculeColumnToFrame(train,'SMILES','Molecule')\n",
        "PandasTools.AddMoleculeColumnToFrame(test,'SMILES','Molecule')"
      ]
    },
    {
      "cell_type": "code",
      "execution_count": null,
      "id": "oXOFfJVW22DL",
      "metadata": {
        "id": "oXOFfJVW22DL"
      },
      "outputs": [],
      "source": [
        "def mol2fp(mol):\n",
        "    fp = AllChem.GetHashedMorganFingerprint(mol, 6, nBits=4096)\n",
        "    ar = np.zeros((1,), dtype=np.int8)\n",
        "    DataStructs.ConvertToNumpyArray(fp, ar)\n",
        "    return ar"
      ]
    },
    {
      "cell_type": "code",
      "execution_count": null,
      "id": "1MTlg0wx22DM",
      "metadata": {
        "id": "1MTlg0wx22DM"
      },
      "outputs": [],
      "source": [
        "# FPs column 추가\n",
        "train[\"FPs\"] = train.Molecule.apply(mol2fp)\n",
        "test[\"FPs\"] = test.Molecule.apply(mol2fp)"
      ]
    },
    {
      "cell_type": "code",
      "execution_count": null,
      "id": "e34a2ae9",
      "metadata": {
        "id": "e34a2ae9"
      },
      "outputs": [],
      "source": [
        "# 사용할 column만 추출\n",
        "train = train[['FPs','MLM', 'HLM']]\n",
        "test = test[['FPs']]"
      ]
    },
    {
      "cell_type": "markdown",
      "id": "e0d289fc",
      "metadata": {
        "id": "e0d289fc"
      },
      "source": [
        "## Custom Dataset"
      ]
    },
    {
      "cell_type": "code",
      "execution_count": null,
      "id": "dade784e",
      "metadata": {
        "id": "dade784e"
      },
      "outputs": [],
      "source": [
        "class CustomDataset(Dataset):\n",
        "    def __init__(self, df, target, transform, is_test=False):\n",
        "        self.df = df\n",
        "        self.target = target # HLM or MLM\n",
        "        self.is_test = is_test # train,valid / test\n",
        "\n",
        "        self.feature_select = transform\n",
        "        if not self.is_test:\n",
        "            self.fp = self.feature_select.fit_transform(np.stack(df['FPs']))\n",
        "        else: # valid or test\n",
        "            self.fp = self.feature_select.transform(np.stack(df['FPs']))\n",
        "\n",
        "    def __getitem__(self, index):\n",
        "        fp = self.fp[index]\n",
        "        if not self.is_test: # test가 아닌 경우(label 존재)\n",
        "            label = self.df[self.target][index]\n",
        "            return torch.tensor(fp).float(), torch.tensor(label).float().unsqueeze(dim=-1) # feature, label\n",
        "\n",
        "        else: # test인 경우\n",
        "            return torch.tensor(fp).float() # feature\n",
        "\n",
        "    def __len__(self):\n",
        "        return len(self.df)"
      ]
    },
    {
      "cell_type": "code",
      "execution_count": null,
      "id": "c600a122",
      "metadata": {
        "id": "c600a122",
        "outputId": "c441a3be-b8eb-495f-bb68-69eed79c19d1",
        "colab": {
          "base_uri": "https://localhost:8080/"
        }
      },
      "outputs": [
        {
          "output_type": "execute_result",
          "data": {
            "text/plain": [
              "251"
            ]
          },
          "metadata": {},
          "execution_count": 23
        }
      ],
      "source": [
        "transform = VarianceThreshold(threshold=0.05)\n",
        "\n",
        "train_MLM = CustomDataset(df=train, target='MLM', transform=transform, is_test=False)\n",
        "train_HLM = CustomDataset(df=train, target='HLM', transform=transform, is_test=False)\n",
        "\n",
        "input_size = train_MLM.fp.shape[1]\n",
        "input_size"
      ]
    },
    {
      "cell_type": "code",
      "execution_count": null,
      "id": "7cb36a46",
      "metadata": {
        "id": "7cb36a46"
      },
      "outputs": [],
      "source": [
        "# Hyperparameter\n",
        "CFG = {'BATCH_SIZE': 256,\n",
        "       'EPOCHS': 1000,\n",
        "       'INPUT_SIZE': input_size,\n",
        "       'HIDDEN_SIZE': 1024,\n",
        "       'OUTPUT_SIZE': 1,\n",
        "       'DROPOUT_RATE': 0.8,\n",
        "       'LEARNING_RATE': 0.001}"
      ]
    },
    {
      "cell_type": "code",
      "execution_count": null,
      "id": "090fa2f2",
      "metadata": {
        "id": "090fa2f2"
      },
      "outputs": [],
      "source": [
        "# train,valid split\n",
        "train_MLM_dataset, valid_MLM_dataset = train_test_split(train_MLM, test_size=0.2, random_state=42)\n",
        "train_HLM_dataset, valid_HLM_dataset = train_test_split(train_HLM, test_size=0.2, random_state=42)"
      ]
    },
    {
      "cell_type": "code",
      "execution_count": null,
      "id": "fe86f36f",
      "metadata": {
        "id": "fe86f36f"
      },
      "outputs": [],
      "source": [
        "train_MLM_loader = DataLoader(dataset=train_MLM_dataset,\n",
        "                              batch_size=CFG['BATCH_SIZE'],\n",
        "                              shuffle=True)\n",
        "\n",
        "valid_MLM_loader = DataLoader(dataset=valid_MLM_dataset,\n",
        "                              batch_size=CFG['BATCH_SIZE'],\n",
        "                              shuffle=False)\n",
        "\n",
        "\n",
        "train_HLM_loader = DataLoader(dataset=train_HLM_dataset,\n",
        "                              batch_size=CFG['BATCH_SIZE'],\n",
        "                              shuffle=True)\n",
        "\n",
        "valid_HLM_loader = DataLoader(dataset=valid_HLM_dataset,\n",
        "                              batch_size=CFG['BATCH_SIZE'],\n",
        "                              shuffle=False)"
      ]
    },
    {
      "cell_type": "markdown",
      "id": "8CHzFfvrbnOM",
      "metadata": {
        "id": "8CHzFfvrbnOM"
      },
      "source": [
        "## Model"
      ]
    },
    {
      "cell_type": "code",
      "execution_count": null,
      "id": "AWUlJIGf22DO",
      "metadata": {
        "id": "AWUlJIGf22DO"
      },
      "outputs": [],
      "source": [
        "class Net(nn.Module):\n",
        "    def __init__(self, input_size, hidden_size, dropout_rate, out_size):\n",
        "        super(Net, self).__init__()\n",
        "\n",
        "        # fc 레이어 3개와 출력 레이어\n",
        "        self.fc1 = nn.Linear(input_size, hidden_size)\n",
        "        self.fc2 = nn.Linear(hidden_size, hidden_size)\n",
        "        self.fc3 = nn.Linear(hidden_size, hidden_size)\n",
        "        self.fc_out = nn.Linear(hidden_size, out_size)\n",
        "\n",
        "        # 정규화\n",
        "        self.ln1 = nn.LayerNorm(hidden_size)\n",
        "        self.ln2 = nn.LayerNorm(hidden_size)\n",
        "        self.ln3 = nn.LayerNorm(hidden_size)\n",
        "\n",
        "        # 활성화 함수\n",
        "        self.activation = nn.LeakyReLU()\n",
        "\n",
        "        # Dropout\n",
        "        self.dropout = nn.Dropout(dropout_rate)\n",
        "\n",
        "    def forward(self, x):\n",
        "        out = self.fc1(x)\n",
        "        out = self.ln1(out)\n",
        "        out = self.activation(out)\n",
        "        out = self.dropout(out)\n",
        "\n",
        "        out = self.fc2(out)\n",
        "        out = self.ln2(out)\n",
        "        out = self.activation(out)\n",
        "        out = self.dropout(out)\n",
        "\n",
        "        out = self.fc3(out)\n",
        "        out = self.ln3(out)\n",
        "        out = self.activation(out)\n",
        "        out = self.dropout(out)\n",
        "\n",
        "        out = self.fc_out(out)\n",
        "        return out"
      ]
    },
    {
      "cell_type": "code",
      "execution_count": null,
      "id": "9IlcjfOB22DO",
      "metadata": {
        "id": "9IlcjfOB22DO"
      },
      "outputs": [],
      "source": [
        "model_MLM = Net(CFG['INPUT_SIZE'],CFG['HIDDEN_SIZE'],CFG['DROPOUT_RATE'],CFG['OUTPUT_SIZE'])\n",
        "model_HLM = Net(CFG['INPUT_SIZE'],CFG['HIDDEN_SIZE'],CFG['DROPOUT_RATE'],CFG['OUTPUT_SIZE'])"
      ]
    },
    {
      "cell_type": "code",
      "execution_count": null,
      "id": "IuQe4Za322DP",
      "metadata": {
        "id": "IuQe4Za322DP"
      },
      "outputs": [],
      "source": [
        "criterion = nn.MSELoss()\n",
        "optimizer_MLM = torch.optim.Adam(model_MLM.parameters(), lr=CFG['LEARNING_RATE'])\n",
        "optimizer_HLM = torch.optim.Adam(model_HLM.parameters(), lr=CFG['LEARNING_RATE'])"
      ]
    },
    {
      "cell_type": "markdown",
      "id": "e032e346",
      "metadata": {
        "id": "e032e346"
      },
      "source": [
        "## Training"
      ]
    },
    {
      "cell_type": "code",
      "execution_count": null,
      "id": "210fa6e3",
      "metadata": {
        "id": "210fa6e3"
      },
      "outputs": [],
      "source": [
        "def train(train_loader, valid_loader, model, criterion, optimizer, epochs):\n",
        "    model.train()\n",
        "\n",
        "    for epoch in range(epochs):\n",
        "        running_loss = 0\n",
        "        for inputs, targets in train_loader:\n",
        "            optimizer.zero_grad()\n",
        "\n",
        "            output = model(inputs)\n",
        "            loss = criterion(output, targets)\n",
        "            loss.backward()\n",
        "            optimizer.step()\n",
        "\n",
        "            running_loss += loss.item()\n",
        "\n",
        "        if epoch % 100 == 0:\n",
        "            valid_loss = 0\n",
        "            with torch.no_grad():\n",
        "                for inputs, targets in valid_loader:\n",
        "                    output = model(inputs)\n",
        "                    loss = criterion(output, targets)\n",
        "                    valid_loss += loss.item()\n",
        "\n",
        "            print(f'Epoch: {epoch}/{epochs}, Train Loss: {running_loss/len(train_loader)}, Valid Loss: {valid_loss/len(valid_HLM_loader)}')\n",
        "\n",
        "            model.train()\n",
        "\n",
        "    return model"
      ]
    },
    {
      "cell_type": "code",
      "execution_count": null,
      "id": "eda577c7",
      "metadata": {
        "id": "eda577c7",
        "outputId": "ec24ce5b-259a-468a-82ca-a4b9a3f3dfe5"
      },
      "outputs": [
        {
          "name": "stdout",
          "output_type": "stream",
          "text": [
            "Training Start: MLM\n",
            "Epoch: 0/1000, Train Loss: 2092.469082919034, Valid Loss: 1900.7300211588542\n",
            "Epoch: 100/1000, Train Loss: 300.07023481889206, Valid Loss: 1555.84912109375\n",
            "Epoch: 200/1000, Train Loss: 183.3335224498402, Valid Loss: 1510.0748291015625\n",
            "Epoch: 300/1000, Train Loss: 141.89285347678444, Valid Loss: 1457.3175048828125\n",
            "Epoch: 400/1000, Train Loss: 113.00318908691406, Valid Loss: 1575.0428873697917\n",
            "Epoch: 500/1000, Train Loss: 89.93183968283914, Valid Loss: 1489.7320149739583\n",
            "Epoch: 600/1000, Train Loss: 92.16542330655184, Valid Loss: 1491.2755940755208\n",
            "Epoch: 700/1000, Train Loss: 85.29120150479403, Valid Loss: 1575.921875\n",
            "Epoch: 800/1000, Train Loss: 78.74117417768998, Valid Loss: 1586.5774739583333\n",
            "Epoch: 900/1000, Train Loss: 69.2516361583363, Valid Loss: 1576.6572265625\n",
            "Training Start: HLM\n",
            "Epoch: 0/1000, Train Loss: 3230.5837180397725, Valid Loss: 2635.5509440104165\n",
            "Epoch: 100/1000, Train Loss: 397.3243685635653, Valid Loss: 1358.5394287109375\n",
            "Epoch: 200/1000, Train Loss: 217.6745869029652, Valid Loss: 1481.8584391276042\n",
            "Epoch: 300/1000, Train Loss: 166.2790617509322, Valid Loss: 1593.5834554036458\n",
            "Epoch: 400/1000, Train Loss: 128.60101040926847, Valid Loss: 1457.6752522786458\n",
            "Epoch: 500/1000, Train Loss: 118.78044752641158, Valid Loss: 1434.3185221354167\n",
            "Epoch: 600/1000, Train Loss: 105.55956198952414, Valid Loss: 1505.4202880859375\n",
            "Epoch: 700/1000, Train Loss: 94.39194280450994, Valid Loss: 1568.5218505859375\n",
            "Epoch: 800/1000, Train Loss: 89.45942063765092, Valid Loss: 1559.5579020182292\n",
            "Epoch: 900/1000, Train Loss: 83.95151381059127, Valid Loss: 1482.4597574869792\n"
          ]
        }
      ],
      "source": [
        "print(\"Training Start: MLM\")\n",
        "model_MLM = train(train_MLM_loader, valid_MLM_loader, model_MLM, criterion, optimizer_MLM, epochs=CFG['EPOCHS'])\n",
        "\n",
        "print(\"Training Start: HLM\")\n",
        "model_HLM = train(train_HLM_loader, valid_HLM_loader, model_HLM, criterion, optimizer_HLM, epochs=CFG['EPOCHS'])"
      ]
    },
    {
      "cell_type": "markdown",
      "id": "b39bbce5",
      "metadata": {
        "id": "b39bbce5"
      },
      "source": [
        "## Inference"
      ]
    },
    {
      "cell_type": "code",
      "execution_count": null,
      "id": "3cbc3181",
      "metadata": {
        "id": "3cbc3181"
      },
      "outputs": [],
      "source": [
        "test_MLM = CustomDataset(df=test, target=None, transform=transform, is_test=True)\n",
        "test_HLM = CustomDataset(df=test, target=None, transform=transform, is_test=True)\n",
        "\n",
        "test_MLM_loader = DataLoader(dataset=test_MLM,\n",
        "                             batch_size=CFG['BATCH_SIZE'],\n",
        "                             shuffle=False)\n",
        "\n",
        "test_HLM_loader = DataLoader(dataset=test_HLM,\n",
        "                             batch_size=CFG['BATCH_SIZE'],\n",
        "                             shuffle=False)"
      ]
    },
    {
      "cell_type": "code",
      "execution_count": null,
      "id": "e5d8a4e4",
      "metadata": {
        "id": "e5d8a4e4"
      },
      "outputs": [],
      "source": [
        "def inference(test_loader, model):\n",
        "    model.eval()\n",
        "    preds = []\n",
        "\n",
        "    with torch.no_grad():\n",
        "        for inputs in test_loader:\n",
        "            output = model(inputs)\n",
        "            preds.extend(output.cpu().numpy().flatten().tolist())\n",
        "\n",
        "    return preds"
      ]
    },
    {
      "cell_type": "code",
      "execution_count": null,
      "id": "d9794de7",
      "metadata": {
        "id": "d9794de7"
      },
      "outputs": [],
      "source": [
        "predictions_MLM = inference(test_MLM_loader, model_MLM)\n",
        "predictions_HLM = inference(test_HLM_loader, model_HLM)"
      ]
    },
    {
      "cell_type": "markdown",
      "id": "bcb42d64",
      "metadata": {
        "id": "bcb42d64"
      },
      "source": [
        "## Submission"
      ]
    },
    {
      "cell_type": "code",
      "execution_count": null,
      "id": "a8e574c0",
      "metadata": {
        "id": "a8e574c0",
        "outputId": "2b4406ac-e185-49b2-9b87-3d67973e0847"
      },
      "outputs": [
        {
          "data": {
            "text/html": [
              "<div>\n",
              "<style scoped>\n",
              "    .dataframe tbody tr th:only-of-type {\n",
              "        vertical-align: middle;\n",
              "    }\n",
              "\n",
              "    .dataframe tbody tr th {\n",
              "        vertical-align: top;\n",
              "    }\n",
              "\n",
              "    .dataframe thead th {\n",
              "        text-align: right;\n",
              "    }\n",
              "</style>\n",
              "<table border=\"1\" class=\"dataframe\">\n",
              "  <thead>\n",
              "    <tr style=\"text-align: right;\">\n",
              "      <th></th>\n",
              "      <th>id</th>\n",
              "      <th>MLM</th>\n",
              "      <th>HLM</th>\n",
              "    </tr>\n",
              "  </thead>\n",
              "  <tbody>\n",
              "    <tr>\n",
              "      <th>0</th>\n",
              "      <td>TEST_000</td>\n",
              "      <td>0</td>\n",
              "      <td>0</td>\n",
              "    </tr>\n",
              "    <tr>\n",
              "      <th>1</th>\n",
              "      <td>TEST_001</td>\n",
              "      <td>0</td>\n",
              "      <td>0</td>\n",
              "    </tr>\n",
              "    <tr>\n",
              "      <th>2</th>\n",
              "      <td>TEST_002</td>\n",
              "      <td>0</td>\n",
              "      <td>0</td>\n",
              "    </tr>\n",
              "    <tr>\n",
              "      <th>3</th>\n",
              "      <td>TEST_003</td>\n",
              "      <td>0</td>\n",
              "      <td>0</td>\n",
              "    </tr>\n",
              "    <tr>\n",
              "      <th>4</th>\n",
              "      <td>TEST_004</td>\n",
              "      <td>0</td>\n",
              "      <td>0</td>\n",
              "    </tr>\n",
              "    <tr>\n",
              "      <th>...</th>\n",
              "      <td>...</td>\n",
              "      <td>...</td>\n",
              "      <td>...</td>\n",
              "    </tr>\n",
              "    <tr>\n",
              "      <th>478</th>\n",
              "      <td>TEST_478</td>\n",
              "      <td>0</td>\n",
              "      <td>0</td>\n",
              "    </tr>\n",
              "    <tr>\n",
              "      <th>479</th>\n",
              "      <td>TEST_479</td>\n",
              "      <td>0</td>\n",
              "      <td>0</td>\n",
              "    </tr>\n",
              "    <tr>\n",
              "      <th>480</th>\n",
              "      <td>TEST_480</td>\n",
              "      <td>0</td>\n",
              "      <td>0</td>\n",
              "    </tr>\n",
              "    <tr>\n",
              "      <th>481</th>\n",
              "      <td>TEST_481</td>\n",
              "      <td>0</td>\n",
              "      <td>0</td>\n",
              "    </tr>\n",
              "    <tr>\n",
              "      <th>482</th>\n",
              "      <td>TEST_482</td>\n",
              "      <td>0</td>\n",
              "      <td>0</td>\n",
              "    </tr>\n",
              "  </tbody>\n",
              "</table>\n",
              "<p>483 rows × 3 columns</p>\n",
              "</div>"
            ],
            "text/plain": [
              "           id  MLM  HLM\n",
              "0    TEST_000    0    0\n",
              "1    TEST_001    0    0\n",
              "2    TEST_002    0    0\n",
              "3    TEST_003    0    0\n",
              "4    TEST_004    0    0\n",
              "..        ...  ...  ...\n",
              "478  TEST_478    0    0\n",
              "479  TEST_479    0    0\n",
              "480  TEST_480    0    0\n",
              "481  TEST_481    0    0\n",
              "482  TEST_482    0    0\n",
              "\n",
              "[483 rows x 3 columns]"
            ]
          },
          "execution_count": 21,
          "metadata": {},
          "output_type": "execute_result"
        }
      ],
      "source": [
        "submission = pd.read_csv('./sample_submission.csv')\n",
        "submission"
      ]
    },
    {
      "cell_type": "code",
      "execution_count": null,
      "id": "569d8575",
      "metadata": {
        "id": "569d8575",
        "outputId": "569b0b8b-6bb3-46f2-a09a-e9c27670a782"
      },
      "outputs": [
        {
          "data": {
            "text/html": [
              "<div>\n",
              "<style scoped>\n",
              "    .dataframe tbody tr th:only-of-type {\n",
              "        vertical-align: middle;\n",
              "    }\n",
              "\n",
              "    .dataframe tbody tr th {\n",
              "        vertical-align: top;\n",
              "    }\n",
              "\n",
              "    .dataframe thead th {\n",
              "        text-align: right;\n",
              "    }\n",
              "</style>\n",
              "<table border=\"1\" class=\"dataframe\">\n",
              "  <thead>\n",
              "    <tr style=\"text-align: right;\">\n",
              "      <th></th>\n",
              "      <th>id</th>\n",
              "      <th>MLM</th>\n",
              "      <th>HLM</th>\n",
              "    </tr>\n",
              "  </thead>\n",
              "  <tbody>\n",
              "    <tr>\n",
              "      <th>0</th>\n",
              "      <td>TEST_000</td>\n",
              "      <td>4.429368</td>\n",
              "      <td>32.985760</td>\n",
              "    </tr>\n",
              "    <tr>\n",
              "      <th>1</th>\n",
              "      <td>TEST_001</td>\n",
              "      <td>64.407326</td>\n",
              "      <td>85.722000</td>\n",
              "    </tr>\n",
              "    <tr>\n",
              "      <th>2</th>\n",
              "      <td>TEST_002</td>\n",
              "      <td>36.571301</td>\n",
              "      <td>55.795212</td>\n",
              "    </tr>\n",
              "    <tr>\n",
              "      <th>3</th>\n",
              "      <td>TEST_003</td>\n",
              "      <td>29.255388</td>\n",
              "      <td>66.772362</td>\n",
              "    </tr>\n",
              "    <tr>\n",
              "      <th>4</th>\n",
              "      <td>TEST_004</td>\n",
              "      <td>27.548944</td>\n",
              "      <td>89.630684</td>\n",
              "    </tr>\n",
              "    <tr>\n",
              "      <th>...</th>\n",
              "      <td>...</td>\n",
              "      <td>...</td>\n",
              "      <td>...</td>\n",
              "    </tr>\n",
              "    <tr>\n",
              "      <th>478</th>\n",
              "      <td>TEST_478</td>\n",
              "      <td>49.131546</td>\n",
              "      <td>66.264229</td>\n",
              "    </tr>\n",
              "    <tr>\n",
              "      <th>479</th>\n",
              "      <td>TEST_479</td>\n",
              "      <td>88.135956</td>\n",
              "      <td>97.061493</td>\n",
              "    </tr>\n",
              "    <tr>\n",
              "      <th>480</th>\n",
              "      <td>TEST_480</td>\n",
              "      <td>33.718052</td>\n",
              "      <td>74.094612</td>\n",
              "    </tr>\n",
              "    <tr>\n",
              "      <th>481</th>\n",
              "      <td>TEST_481</td>\n",
              "      <td>40.919796</td>\n",
              "      <td>63.873692</td>\n",
              "    </tr>\n",
              "    <tr>\n",
              "      <th>482</th>\n",
              "      <td>TEST_482</td>\n",
              "      <td>33.941372</td>\n",
              "      <td>77.825127</td>\n",
              "    </tr>\n",
              "  </tbody>\n",
              "</table>\n",
              "<p>483 rows × 3 columns</p>\n",
              "</div>"
            ],
            "text/plain": [
              "           id        MLM        HLM\n",
              "0    TEST_000   4.429368  32.985760\n",
              "1    TEST_001  64.407326  85.722000\n",
              "2    TEST_002  36.571301  55.795212\n",
              "3    TEST_003  29.255388  66.772362\n",
              "4    TEST_004  27.548944  89.630684\n",
              "..        ...        ...        ...\n",
              "478  TEST_478  49.131546  66.264229\n",
              "479  TEST_479  88.135956  97.061493\n",
              "480  TEST_480  33.718052  74.094612\n",
              "481  TEST_481  40.919796  63.873692\n",
              "482  TEST_482  33.941372  77.825127\n",
              "\n",
              "[483 rows x 3 columns]"
            ]
          },
          "execution_count": 22,
          "metadata": {},
          "output_type": "execute_result"
        }
      ],
      "source": [
        "submission['MLM'] = predictions_MLM\n",
        "submission['HLM'] = predictions_HLM\n",
        "submission"
      ]
    },
    {
      "cell_type": "code",
      "execution_count": null,
      "id": "2eaf46fc",
      "metadata": {
        "id": "2eaf46fc"
      },
      "outputs": [],
      "source": [
        "submission.to_csv('baseline_submission.csv', index=False)"
      ]
    }
  ],
  "metadata": {
    "accelerator": "GPU",
    "colab": {
      "provenance": [],
      "include_colab_link": true
    },
    "gpuClass": "standard",
    "kernelspec": {
      "display_name": "eunil_py38",
      "language": "python",
      "name": "python3"
    },
    "language_info": {
      "codemirror_mode": {
        "name": "ipython",
        "version": 3
      },
      "file_extension": ".py",
      "mimetype": "text/x-python",
      "name": "python",
      "nbconvert_exporter": "python",
      "pygments_lexer": "ipython3",
      "version": "3.8.0"
    },
    "vscode": {
      "interpreter": {
        "hash": "88a5da79f9030d36a713e3ceec9ed9a47a216907c035af9944c458137c4e5cb3"
      }
    }
  },
  "nbformat": 4,
  "nbformat_minor": 5
}